{
 "cells": [
  {
   "cell_type": "markdown",
   "metadata": {},
   "source": [
    "# The battle of Neighborhoods"
   ]
  },
  {
   "cell_type": "markdown",
   "metadata": {},
   "source": [
    "## Introduction"
   ]
  },
  {
   "cell_type": "markdown",
   "metadata": {},
   "source": [
    "According to the indroduction of the project, here comes an idea in my mind, which is opening an exotic restaruant in a certain city based on my orientation of hometown. \n",
    "\n",
    "Even if London is already an international city, with a lot of Asian food have already served in several locations here. However, as I chose to study master in United Kingdom for next 2 years, the homesickness of food and taste of cuisines always catch my attraction while walking on the street of cities. So I would like to research the suitable district to open a **Taiwanese flavored restaurant** in **London, United Kingdom** with several combinations from East Asian and North-east Asian to help the people who have the same background like me who wish to find a good place to dine in."
   ]
  },
  {
   "cell_type": "markdown",
   "metadata": {},
   "source": [
    "## Business Problem Description"
   ]
  },
  {
   "cell_type": "markdown",
   "metadata": {},
   "source": [
    "Which neighborhoods should be the best decision of opening a Taiwanese restaurant in **London, United Kingdom**? How to choose the most suitable places?"
   ]
  },
  {
   "cell_type": "markdown",
   "metadata": {},
   "source": [
    "## How to decide ?"
   ]
  },
  {
   "cell_type": "markdown",
   "metadata": {},
   "source": [
    "1. Locate and find the data of neighborhoods in City of London or suburban area of Greater London, but better in city center of London(including postal code, just like what we did as Toronto City in the last assignment)\n",
    "2. Discover and construct the datas of similar restaurants in London\n",
    "3. Kmeans and clustering to find the venues \n",
    "4. Analyse the results and give some suggestions of locations which suit for the purpose of opening a Taiwanese restaurants in London\n"
   ]
  },
  {
   "cell_type": "code",
   "execution_count": null,
   "metadata": {},
   "outputs": [],
   "source": []
  }
 ],
 "metadata": {
  "kernelspec": {
   "display_name": "Python 3",
   "language": "python",
   "name": "python3"
  },
  "language_info": {
   "codemirror_mode": {
    "name": "ipython",
    "version": 3
   },
   "file_extension": ".py",
   "mimetype": "text/x-python",
   "name": "python",
   "nbconvert_exporter": "python",
   "pygments_lexer": "ipython3",
   "version": "3.7.6"
  }
 },
 "nbformat": 4,
 "nbformat_minor": 4
}
