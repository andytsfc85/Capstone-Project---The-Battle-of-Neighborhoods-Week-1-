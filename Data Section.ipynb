{
 "cells": [
  {
   "cell_type": "markdown",
   "metadata": {},
   "source": [
    "# The battle of Neighborhoods"
   ]
  },
  {
   "cell_type": "markdown",
   "metadata": {},
   "source": [
    "## Introduction"
   ]
  },
  {
   "cell_type": "markdown",
   "metadata": {},
   "source": [
    "According to the indroduction of the project, here comes an idea in my mind, which is opening an exotic restaruant in a certain city based on my orientation of hometown. \n",
    "\n",
    "Even if London is already an international city, with a lot of Asian food have already served in several locations here. However, as I chose to study master in United Kingdom for next 2 years, the homesickness of food and taste of cuisines always catch my attraction while walking on the street of cities. So I would like to research the suitable district to open a **Taiwanese flavored restaurant** in **London, United Kingdom** with several combinations from East Asian and North-east Asian to help the people who have the same background like me who wish to find a good place to dine in."
   ]
  },
  {
   "cell_type": "markdown",
   "metadata": {},
   "source": [
    "## Business Problem Description"
   ]
  },
  {
   "cell_type": "markdown",
   "metadata": {},
   "source": [
    "Which neighborhoods should be the best decision of opening a Taiwanese restaurant in **London, United Kingdom**? How to choose the most suitable places?"
   ]
  },
  {
   "cell_type": "markdown",
   "metadata": {},
   "source": [
    "## How to decide ?"
   ]
  },
  {
   "cell_type": "markdown",
   "metadata": {},
   "source": [
    "1. Locate and find the data of neighborhoods in City of London or suburban area of Greater London, but better in city center of London(including postal code, just like what we did as Toronto City in the last assignment)\n",
    "2. Discover and construct the datas of similar restaurants in London\n",
    "3. Kmeans and clustering to find the venues \n",
    "4. Analyse the results and give some suggestions of locations which suit for the purpose of opening a Taiwanese restaurants in London\n"
   ]
  },
  {
   "cell_type": "markdown",
   "metadata": {},
   "source": [
    "## Data"
   ]
  },
  {
   "cell_type": "markdown",
   "metadata": {},
   "source": [
    "To explore, we need to import and build neighborhoods data of London from the most common data resources, wikiwpedia and foursquare.\n",
    " \n",
    "First of all, we use the data, List of London Areas of boroughs: https://en.wikipedia.org/wiki/List_of_London_boroughs to create the datasets using what we learned before, web scrapping:"
   ]
  },
  {
   "cell_type": "code",
   "execution_count": 18,
   "metadata": {},
   "outputs": [],
   "source": [
    "import numpy as np \n",
    "import time\n",
    "import pandas as pd \n",
    "pd.set_option('display.max_columns', None)\n",
    "pd.set_option('display.max_rows', None)\n",
    "\n",
    "import json \n",
    "import requests \n",
    "from pandas.io.json import json_normalize\n",
    "\n",
    "from geopy.geocoders import Nominatim \n",
    "import folium"
   ]
  },
  {
   "cell_type": "code",
   "execution_count": 19,
   "metadata": {},
   "outputs": [
    {
     "data": {
      "text/plain": [
       "<Response [200]>"
      ]
     },
     "execution_count": 19,
     "metadata": {},
     "output_type": "execute_result"
    }
   ],
   "source": [
    "#Web scrapping from wikipedia\n",
    "url = 'https://en.wikipedia.org/wiki/List_of_London_boroughs'\n",
    "wikipedia_page = requests.get(url)\n",
    "wikipedia_page"
   ]
  },
  {
   "cell_type": "code",
   "execution_count": 20,
   "metadata": {},
   "outputs": [
    {
     "data": {
      "text/html": [
       "<div>\n",
       "<style scoped>\n",
       "    .dataframe tbody tr th:only-of-type {\n",
       "        vertical-align: middle;\n",
       "    }\n",
       "\n",
       "    .dataframe tbody tr th {\n",
       "        vertical-align: top;\n",
       "    }\n",
       "\n",
       "    .dataframe thead th {\n",
       "        text-align: right;\n",
       "    }\n",
       "</style>\n",
       "<table border=\"1\" class=\"dataframe\">\n",
       "  <thead>\n",
       "    <tr style=\"text-align: right;\">\n",
       "      <th></th>\n",
       "      <th>Borough</th>\n",
       "      <th>Inner</th>\n",
       "      <th>Status</th>\n",
       "      <th>Local authority</th>\n",
       "      <th>Political control</th>\n",
       "      <th>Headquarters</th>\n",
       "      <th>Area (sq mi)</th>\n",
       "      <th>Population (2019 est)[1]</th>\n",
       "      <th>Co-ordinates</th>\n",
       "      <th>Nr. in map</th>\n",
       "    </tr>\n",
       "  </thead>\n",
       "  <tbody>\n",
       "    <tr>\n",
       "      <th>0</th>\n",
       "      <td>Barking and Dagenham[note 1]</td>\n",
       "      <td>NaN</td>\n",
       "      <td>NaN</td>\n",
       "      <td>Barking and Dagenham London Borough Council</td>\n",
       "      <td>Labour</td>\n",
       "      <td>Town Hall, 1 Town Square</td>\n",
       "      <td>13.93</td>\n",
       "      <td>212906</td>\n",
       "      <td>.mw-parser-output .geo-default,.mw-parser-outp...</td>\n",
       "      <td>25</td>\n",
       "    </tr>\n",
       "    <tr>\n",
       "      <th>1</th>\n",
       "      <td>Barnet</td>\n",
       "      <td>NaN</td>\n",
       "      <td>NaN</td>\n",
       "      <td>Barnet London Borough Council</td>\n",
       "      <td>Conservative</td>\n",
       "      <td>Barnet House, 2 Bristol Avenue, Colindale</td>\n",
       "      <td>33.49</td>\n",
       "      <td>395896</td>\n",
       "      <td>51°37′31″N 0°09′06″W﻿ / ﻿51.6252°N 0.1517°W</td>\n",
       "      <td>31</td>\n",
       "    </tr>\n",
       "    <tr>\n",
       "      <th>2</th>\n",
       "      <td>Bexley</td>\n",
       "      <td>NaN</td>\n",
       "      <td>NaN</td>\n",
       "      <td>Bexley London Borough Council</td>\n",
       "      <td>Conservative</td>\n",
       "      <td>Civic Offices, 2 Watling Street</td>\n",
       "      <td>23.38</td>\n",
       "      <td>248287</td>\n",
       "      <td>51°27′18″N 0°09′02″E﻿ / ﻿51.4549°N 0.1505°E</td>\n",
       "      <td>23</td>\n",
       "    </tr>\n",
       "    <tr>\n",
       "      <th>3</th>\n",
       "      <td>Brent</td>\n",
       "      <td>NaN</td>\n",
       "      <td>NaN</td>\n",
       "      <td>Brent London Borough Council</td>\n",
       "      <td>Labour</td>\n",
       "      <td>Brent Civic Centre, Engineers Way</td>\n",
       "      <td>16.70</td>\n",
       "      <td>329771</td>\n",
       "      <td>51°33′32″N 0°16′54″W﻿ / ﻿51.5588°N 0.2817°W</td>\n",
       "      <td>12</td>\n",
       "    </tr>\n",
       "    <tr>\n",
       "      <th>4</th>\n",
       "      <td>Bromley</td>\n",
       "      <td>NaN</td>\n",
       "      <td>NaN</td>\n",
       "      <td>Bromley London Borough Council</td>\n",
       "      <td>Conservative</td>\n",
       "      <td>Civic Centre, Stockwell Close</td>\n",
       "      <td>57.97</td>\n",
       "      <td>332336</td>\n",
       "      <td>51°24′14″N 0°01′11″E﻿ / ﻿51.4039°N 0.0198°E</td>\n",
       "      <td>20</td>\n",
       "    </tr>\n",
       "  </tbody>\n",
       "</table>\n",
       "</div>"
      ],
      "text/plain": [
       "                        Borough Inner Status  \\\n",
       "0  Barking and Dagenham[note 1]   NaN    NaN   \n",
       "1                        Barnet   NaN    NaN   \n",
       "2                        Bexley   NaN    NaN   \n",
       "3                         Brent   NaN    NaN   \n",
       "4                       Bromley   NaN    NaN   \n",
       "\n",
       "                               Local authority Political control  \\\n",
       "0  Barking and Dagenham London Borough Council            Labour   \n",
       "1                Barnet London Borough Council      Conservative   \n",
       "2                Bexley London Borough Council      Conservative   \n",
       "3                 Brent London Borough Council            Labour   \n",
       "4               Bromley London Borough Council      Conservative   \n",
       "\n",
       "                                Headquarters  Area (sq mi)  \\\n",
       "0                   Town Hall, 1 Town Square         13.93   \n",
       "1  Barnet House, 2 Bristol Avenue, Colindale         33.49   \n",
       "2            Civic Offices, 2 Watling Street         23.38   \n",
       "3          Brent Civic Centre, Engineers Way         16.70   \n",
       "4              Civic Centre, Stockwell Close         57.97   \n",
       "\n",
       "   Population (2019 est)[1]  \\\n",
       "0                    212906   \n",
       "1                    395896   \n",
       "2                    248287   \n",
       "3                    329771   \n",
       "4                    332336   \n",
       "\n",
       "                                        Co-ordinates  Nr. in map  \n",
       "0  .mw-parser-output .geo-default,.mw-parser-outp...          25  \n",
       "1        51°37′31″N 0°09′06″W﻿ / ﻿51.6252°N 0.1517°W          31  \n",
       "2        51°27′18″N 0°09′02″E﻿ / ﻿51.4549°N 0.1505°E          23  \n",
       "3        51°33′32″N 0°16′54″W﻿ / ﻿51.5588°N 0.2817°W          12  \n",
       "4        51°24′14″N 0°01′11″E﻿ / ﻿51.4039°N 0.0198°E          20  "
      ]
     },
     "execution_count": 20,
     "metadata": {},
     "output_type": "execute_result"
    }
   ],
   "source": [
    "#Check the dataset first\n",
    "df_london=pd.read_html(url, header=0)[0]\n",
    "\n",
    "df_london.head()"
   ]
  },
  {
   "cell_type": "code",
   "execution_count": 21,
   "metadata": {},
   "outputs": [
    {
     "data": {
      "text/html": [
       "<div>\n",
       "<style scoped>\n",
       "    .dataframe tbody tr th:only-of-type {\n",
       "        vertical-align: middle;\n",
       "    }\n",
       "\n",
       "    .dataframe tbody tr th {\n",
       "        vertical-align: top;\n",
       "    }\n",
       "\n",
       "    .dataframe thead th {\n",
       "        text-align: right;\n",
       "    }\n",
       "</style>\n",
       "<table border=\"1\" class=\"dataframe\">\n",
       "  <thead>\n",
       "    <tr style=\"text-align: right;\">\n",
       "      <th></th>\n",
       "      <th>Borough</th>\n",
       "      <th>Inner</th>\n",
       "      <th>Area (sq mi)</th>\n",
       "      <th>Population (2019 est)[1]</th>\n",
       "      <th>Co-ordinates</th>\n",
       "    </tr>\n",
       "  </thead>\n",
       "  <tbody>\n",
       "    <tr>\n",
       "      <th>0</th>\n",
       "      <td>Barking and Dagenham</td>\n",
       "      <td>0</td>\n",
       "      <td>13.93</td>\n",
       "      <td>212906</td>\n",
       "      <td>.mw-parser-output .geo-default,.mw-parser-outp...</td>\n",
       "    </tr>\n",
       "    <tr>\n",
       "      <th>1</th>\n",
       "      <td>Barnet</td>\n",
       "      <td>0</td>\n",
       "      <td>33.49</td>\n",
       "      <td>395896</td>\n",
       "      <td>51°37′31″N 0°09′06″W﻿ / ﻿51.6252°N 0.1517°W</td>\n",
       "    </tr>\n",
       "    <tr>\n",
       "      <th>2</th>\n",
       "      <td>Bexley</td>\n",
       "      <td>0</td>\n",
       "      <td>23.38</td>\n",
       "      <td>248287</td>\n",
       "      <td>51°27′18″N 0°09′02″E﻿ / ﻿51.4549°N 0.1505°E</td>\n",
       "    </tr>\n",
       "    <tr>\n",
       "      <th>3</th>\n",
       "      <td>Brent</td>\n",
       "      <td>0</td>\n",
       "      <td>16.70</td>\n",
       "      <td>329771</td>\n",
       "      <td>51°33′32″N 0°16′54″W﻿ / ﻿51.5588°N 0.2817°W</td>\n",
       "    </tr>\n",
       "    <tr>\n",
       "      <th>4</th>\n",
       "      <td>Bromley</td>\n",
       "      <td>0</td>\n",
       "      <td>57.97</td>\n",
       "      <td>332336</td>\n",
       "      <td>51°24′14″N 0°01′11″E﻿ / ﻿51.4039°N 0.0198°E</td>\n",
       "    </tr>\n",
       "  </tbody>\n",
       "</table>\n",
       "</div>"
      ],
      "text/plain": [
       "                Borough Inner  Area (sq mi)  Population (2019 est)[1]  \\\n",
       "0  Barking and Dagenham     0         13.93                    212906   \n",
       "1                Barnet     0         33.49                    395896   \n",
       "2                Bexley     0         23.38                    248287   \n",
       "3                 Brent     0         16.70                    329771   \n",
       "4               Bromley     0         57.97                    332336   \n",
       "\n",
       "                                        Co-ordinates  \n",
       "0  .mw-parser-output .geo-default,.mw-parser-outp...  \n",
       "1        51°37′31″N 0°09′06″W﻿ / ﻿51.6252°N 0.1517°W  \n",
       "2        51°27′18″N 0°09′02″E﻿ / ﻿51.4549°N 0.1505°E  \n",
       "3        51°33′32″N 0°16′54″W﻿ / ﻿51.5588°N 0.2817°W  \n",
       "4        51°24′14″N 0°01′11″E﻿ / ﻿51.4039°N 0.0198°E  "
      ]
     },
     "execution_count": 21,
     "metadata": {},
     "output_type": "execute_result"
    }
   ],
   "source": [
    "# After checking the dataset, we find some of the data are missing so we need to clear and replace to what we want\n",
    "df_la = df_london.drop(['Status','Local authority','Political control','Headquarters','Nr. in map'], axis=1)\n",
    "df_la['Inner'].replace(np.nan,'0', inplace=True)\n",
    "df_la['Borough'].replace('Barking and Dagenham[note 1]','Barking and Dagenham', inplace=True)\n",
    "df_la['Borough'].replace('Greenwich [note 2]','Greenwich', inplace=True)\n",
    "df_la['Borough'].replace('Hammersmith and Fulham [note 4]','Hammersmith and Fulham', inplace=True)\n",
    "Inn = ['Camden','Greenwich','Hackney','Hammersmith and Fulham','Islington','Kensington and Chelsea','Lewisham','Lambeth','Southwark','Tower Hamlets','Wandsworth','Westminster']\n",
    "df_la.head()\n",
    "df_la['Inner'] = '0'\n",
    "df_la.head()"
   ]
  },
  {
   "cell_type": "markdown",
   "metadata": {},
   "source": [
    "After reset and clean the data, we should now rename the column names to make the datasets easier to recognise:"
   ]
  },
  {
   "cell_type": "code",
   "execution_count": 22,
   "metadata": {},
   "outputs": [],
   "source": [
    "df_la['Inner'] = df_la.Borough.isin(Inn).astype(int)\n",
    "Out = df_la[df_la.Inner == 0]"
   ]
  },
  {
   "cell_type": "code",
   "execution_count": 23,
   "metadata": {},
   "outputs": [],
   "source": [
    "Out = Out.drop(['Inner'], axis=1)\n",
    "df = Out.rename(columns = {\"Area (sq mi)\": \"Area\", \n",
    "                            \"Population (2019 est)[1]\":\"Population\"})"
   ]
  },
  {
   "cell_type": "code",
   "execution_count": 24,
   "metadata": {},
   "outputs": [],
   "source": [
    "geolocator = Nominatim(user_agent=\"London_explorer\")"
   ]
  },
  {
   "cell_type": "code",
   "execution_count": 25,
   "metadata": {},
   "outputs": [],
   "source": [
    "df['Co-ordinates']= df['Borough'].apply(geolocator.geocode).apply(lambda x: (x.latitude, x.longitude))"
   ]
  },
  {
   "cell_type": "code",
   "execution_count": 26,
   "metadata": {},
   "outputs": [],
   "source": [
    "df[['Latitude', 'Longitude']] = df['Co-ordinates'].apply(pd.Series)"
   ]
  },
  {
   "cell_type": "code",
   "execution_count": 27,
   "metadata": {},
   "outputs": [
    {
     "data": {
      "text/html": [
       "<div>\n",
       "<style scoped>\n",
       "    .dataframe tbody tr th:only-of-type {\n",
       "        vertical-align: middle;\n",
       "    }\n",
       "\n",
       "    .dataframe tbody tr th {\n",
       "        vertical-align: top;\n",
       "    }\n",
       "\n",
       "    .dataframe thead th {\n",
       "        text-align: right;\n",
       "    }\n",
       "</style>\n",
       "<table border=\"1\" class=\"dataframe\">\n",
       "  <thead>\n",
       "    <tr style=\"text-align: right;\">\n",
       "      <th></th>\n",
       "      <th>Borough</th>\n",
       "      <th>Area</th>\n",
       "      <th>Population</th>\n",
       "      <th>Co-ordinates</th>\n",
       "      <th>Latitude</th>\n",
       "      <th>Longitude</th>\n",
       "    </tr>\n",
       "  </thead>\n",
       "  <tbody>\n",
       "    <tr>\n",
       "      <th>0</th>\n",
       "      <td>Barking and Dagenham</td>\n",
       "      <td>13.93</td>\n",
       "      <td>212906</td>\n",
       "      <td>(51.5541171, 0.15050434261994267)</td>\n",
       "      <td>51.554117</td>\n",
       "      <td>0.150504</td>\n",
       "    </tr>\n",
       "    <tr>\n",
       "      <th>1</th>\n",
       "      <td>Barnet</td>\n",
       "      <td>33.49</td>\n",
       "      <td>395896</td>\n",
       "      <td>(51.65309, -0.2002261)</td>\n",
       "      <td>51.653090</td>\n",
       "      <td>-0.200226</td>\n",
       "    </tr>\n",
       "    <tr>\n",
       "      <th>2</th>\n",
       "      <td>Bexley</td>\n",
       "      <td>23.38</td>\n",
       "      <td>248287</td>\n",
       "      <td>(39.9692378, -82.936864)</td>\n",
       "      <td>39.969238</td>\n",
       "      <td>-82.936864</td>\n",
       "    </tr>\n",
       "    <tr>\n",
       "      <th>3</th>\n",
       "      <td>Brent</td>\n",
       "      <td>16.70</td>\n",
       "      <td>329771</td>\n",
       "      <td>(32.9373463, -87.1647184)</td>\n",
       "      <td>32.937346</td>\n",
       "      <td>-87.164718</td>\n",
       "    </tr>\n",
       "    <tr>\n",
       "      <th>4</th>\n",
       "      <td>Bromley</td>\n",
       "      <td>57.97</td>\n",
       "      <td>332336</td>\n",
       "      <td>(51.4028046, 0.0148142)</td>\n",
       "      <td>51.402805</td>\n",
       "      <td>0.014814</td>\n",
       "    </tr>\n",
       "  </tbody>\n",
       "</table>\n",
       "</div>"
      ],
      "text/plain": [
       "                Borough   Area  Population                       Co-ordinates  \\\n",
       "0  Barking and Dagenham  13.93      212906  (51.5541171, 0.15050434261994267)   \n",
       "1                Barnet  33.49      395896             (51.65309, -0.2002261)   \n",
       "2                Bexley  23.38      248287           (39.9692378, -82.936864)   \n",
       "3                 Brent  16.70      329771          (32.9373463, -87.1647184)   \n",
       "4               Bromley  57.97      332336            (51.4028046, 0.0148142)   \n",
       "\n",
       "    Latitude  Longitude  \n",
       "0  51.554117   0.150504  \n",
       "1  51.653090  -0.200226  \n",
       "2  39.969238 -82.936864  \n",
       "3  32.937346 -87.164718  \n",
       "4  51.402805   0.014814  "
      ]
     },
     "execution_count": 27,
     "metadata": {},
     "output_type": "execute_result"
    }
   ],
   "source": [
    "#After series of drop columns and create latitude and longitude, we can find the datasets like this:\n",
    "df.head()"
   ]
  },
  {
   "cell_type": "markdown",
   "metadata": {},
   "source": [
    "So the dataset df is the data formats for further investigating week2 Capstone project combination with Foursquare API which is saved for the web data"
   ]
  },
  {
   "cell_type": "markdown",
   "metadata": {},
   "source": [
    "## How to solve the problem with datasets?"
   ]
  },
  {
   "cell_type": "markdown",
   "metadata": {},
   "source": [
    "The most straightforward solution is to find the venues with the neighbourhoods of London Boroughs. Foursquare API would be considered of the assistance tools, however the number of venues investigated by FourSquare API will be limited. The neighborhoods to transport connection and other amenities would be correlated, at the same time,  accessibility and ease of supplies are also the priorty selection."
   ]
  },
  {
   "cell_type": "code",
   "execution_count": null,
   "metadata": {},
   "outputs": [],
   "source": []
  }
 ],
 "metadata": {
  "kernelspec": {
   "display_name": "Python 3",
   "language": "python",
   "name": "python3"
  },
  "language_info": {
   "codemirror_mode": {
    "name": "ipython",
    "version": 3
   },
   "file_extension": ".py",
   "mimetype": "text/x-python",
   "name": "python",
   "nbconvert_exporter": "python",
   "pygments_lexer": "ipython3",
   "version": "3.7.6"
  }
 },
 "nbformat": 4,
 "nbformat_minor": 4
}
